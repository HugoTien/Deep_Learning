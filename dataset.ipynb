{
 "cells": [
  {
   "cell_type": "code",
   "execution_count": 33,
   "metadata": {},
   "outputs": [],
   "source": [
    "# !conda install pandas\n",
    "#KERAS\n",
    "from keras.models import Sequential\n",
    "from keras.layers.core import Dense, Dropout, Activation, Flatten\n",
    "from keras.layers.convolutional import Convolution2D, MaxPooling2D\n",
    "from keras.optimizers import SGD,RMSprop,adam\n",
    "from keras.utils import np_utils\n",
    "# from array import array\n",
    "\n",
    "import numpy as np\n",
    "import matplotlib.pyplot as plt\n",
    "import matplotlib\n",
    "import os\n",
    "import theano\n",
    "from PIL import Image\n",
    "from numpy import *\n",
    "# SKLEARN\n",
    "from sklearn.utils import shuffle\n",
    "from sklearn.cross_validation import train_test_split"
   ]
  },
  {
   "cell_type": "code",
   "execution_count": 34,
   "metadata": {
    "collapsed": true
   },
   "outputs": [],
   "source": [
    "from keras.preprocessing.image import ImageDataGenerator\n",
    "from keras.models import Sequential\n",
    "from keras.layers import Conv2D, MaxPooling2D, Conv3D, MaxPooling3D\n",
    "from keras.layers import Activation, Dropout, Flatten, Dense\n",
    "from keras import backend as K\n",
    "from keras.preprocessing.image import img_to_array, load_img\n",
    "import numpy as np"
   ]
  },
  {
   "cell_type": "code",
   "execution_count": 35,
   "metadata": {},
   "outputs": [
    {
     "name": "stdout",
     "output_type": "stream",
     "text": [
      "13668\n"
     ]
    }
   ],
   "source": [
    "# input image dimensions\n",
    "img_rows, img_cols = 128, 128\n",
    "# number of channels\n",
    "img_channels = 1\n",
    "\n",
    "# data\n",
    "path1 = 'C:/Users/Java/Desktop/Project/Project_Image/data8/train'    \n",
    "#path of folder of images    \n",
    "path2 = 'C:/Users/Java/Desktop/Project/Project_Image/data8/train_set'  \n",
    "#path of folder to save images    \n",
    "\n",
    "listing = os.listdir(path1) \n",
    "num_samples=size(listing)\n",
    "print(num_samples)\n"
   ]
  },
  {
   "cell_type": "code",
   "execution_count": 36,
   "metadata": {
    "collapsed": true
   },
   "outputs": [],
   "source": [
    "for file in listing:\n",
    "    im = Image.open(path1 + '/' + file)   \n",
    "    img = im.resize((img_rows,img_cols))\n",
    "    gray = img.convert('RGBA')\n",
    "                #need to do some more processing here           \n",
    "#     img.save(path2 +'/' +  file, \"JPEG\")\n",
    "    gray.save(path2 +'\\\\' +  file, \"JPEG\")\n",
    "\n",
    "imlist = os.listdir(path2)\n",
    "\n"
   ]
  },
  {
   "cell_type": "code",
   "execution_count": 37,
   "metadata": {
    "collapsed": true,
    "scrolled": true
   },
   "outputs": [],
   "source": [
    "im1 = array(Image.open(path2 + '/'+ imlist[0])) # open one image to get size\n",
    "m,n = im1.shape[0:2] # get the size of the images\n",
    "imnbr = len(imlist) # get the number of images"
   ]
  },
  {
   "cell_type": "code",
   "execution_count": 38,
   "metadata": {
    "collapsed": true
   },
   "outputs": [],
   "source": [
    "# create matrix to store all flattened images\n",
    "immatrix = array([array(Image.open(path2+ '/' +im2)).flatten()\n",
    "              for im2 in imlist],'f')\n",
    "                \n",
    "\n"
   ]
  },
  {
   "cell_type": "code",
   "execution_count": 39,
   "metadata": {},
   "outputs": [
    {
     "name": "stdout",
     "output_type": "stream",
     "text": [
      "(13668, 49152)\n",
      "(13668,)\n"
     ]
    }
   ],
   "source": [
    "label=np.ones((num_samples,),dtype = int)\n",
    "# np.ones(shape[, dtype, order])\n",
    "# 依据给定形状和类型(shape[, dtype, order])返回一个新的元素全部为1的数组\n",
    "\n",
    "label[0:945]=0\n",
    "label[946:2195]=1\n",
    "label[2196:4826]=2\n",
    "label[4827:6919]=3\n",
    "label[6920:7466]=4\n",
    "label[7467:9157]=5\n",
    "label[9158:11424]=6\n",
    "label[11425:12007]=7\n",
    "label[12008:13667]=8\n",
    "\n",
    "# 0 二條城1-100\t\t1-746\n",
    "# 1 三十三間堂101-200\t747-1796\n",
    "# 2 千本鳥居201-300\t1797-4228\n",
    "# 3 平等院鳳凰堂301-400\t4229-6120\n",
    "# 4 京都御所401-500\t6121-6468\n",
    "# 5 京都塔501-600\t\t6469-7959\n",
    "# 6 金格寺601-700\t\t7960-10028\n",
    "# 7 清水寺701-800\t\t10029-10411\n",
    "# 8 渡月橋801-900\t\t10412-11872\n",
    "\n",
    "data,Label = shuffle(immatrix,label, random_state=3)\n",
    "train_data = [data,Label]\n",
    "\n",
    "img=immatrix[200].reshape(img_rows,img_cols,3)\n",
    "plt.imshow(img)\n",
    "# plt.imshow(img,cmap='gray') \n",
    "# cmap: 颜色图谱（colormap), 默认绘制为RGB(A)颜色空间。\n",
    "print (train_data[0].shape)\n",
    "print (train_data[1].shape)"
   ]
  },
  {
   "cell_type": "code",
   "execution_count": 40,
   "metadata": {
    "collapsed": true
   },
   "outputs": [],
   "source": [
    "#batch_size to train\n",
    "batch_size = 50\n",
    "# number of output classes\n",
    "nb_classes = 9\n",
    "# number of epochs to train\n",
    "nb_epoch = 20\n",
    "\n",
    "# number of convolutional filters to use\n",
    "nb_filters = 32\n",
    "# size of pooling area for max pooling\n",
    "nb_pool = 2\n",
    "# convolution kernel size\n",
    "nb_conv = 3\n",
    "\n",
    "#%%\n",
    "(X, y) = (train_data[0],train_data[1]) #？？"
   ]
  },
  {
   "cell_type": "code",
   "execution_count": 41,
   "metadata": {},
   "outputs": [
    {
     "name": "stdout",
     "output_type": "stream",
     "text": [
      "X_train shape: (12301, 128, 128, 3)\n",
      "12301 train samples\n",
      "1367 test samples\n"
     ]
    }
   ],
   "source": [
    "# STEP 1: split X and y into training and testing sets\n",
    "\n",
    "X_train, X_test, y_train, y_test = train_test_split(X, y, test_size=0.1, random_state=4)\n",
    "\n",
    "\n",
    "X_train = X_train.reshape(X_train.shape[0],img_rows, img_cols,3)\n",
    "X_test = X_test.reshape(X_test.shape[0], img_rows, img_cols,3)\n",
    "\n",
    "X_train = X_train.astype('float32')\n",
    "X_test = X_test.astype('float32')\n",
    "\n",
    "X_train /= 255\n",
    "X_test /= 255\n",
    "\n",
    "print('X_train shape:', X_train.shape)\n",
    "print(X_train.shape[0], 'train samples')\n",
    "print(X_test.shape[0], 'test samples')"
   ]
  },
  {
   "cell_type": "code",
   "execution_count": 42,
   "metadata": {},
   "outputs": [
    {
     "name": "stdout",
     "output_type": "stream",
     "text": [
      "label :  [ 0.  0.  0.  0.  0.  0.  1.  0.  0.]\n"
     ]
    }
   ],
   "source": [
    "# convert class vectors to binary class matrices\n",
    "Y_train = np_utils.to_categorical(y_train, nb_classes)\n",
    "Y_test = np_utils.to_categorical(y_test, nb_classes)\n",
    "\n",
    "i = 800\n",
    "plt.imshow(X_train[i, 0], interpolation='nearest')\n",
    "print(\"label : \", Y_train[i,:])"
   ]
  },
  {
   "cell_type": "code",
   "execution_count": 62,
   "metadata": {
    "scrolled": true
   },
   "outputs": [
    {
     "name": "stdout",
     "output_type": "stream",
     "text": [
      "_________________________________________________________________\n",
      "Layer (type)                 Output Shape              Param #   \n",
      "=================================================================\n",
      "conv2d_25 (Conv2D)           (None, 128, 128, 32)      416       \n",
      "_________________________________________________________________\n",
      "dropout_31 (Dropout)         (None, 128, 128, 32)      0         \n",
      "_________________________________________________________________\n",
      "max_pooling2d_16 (MaxPooling (None, 64, 64, 32)        0         \n",
      "_________________________________________________________________\n",
      "conv2d_26 (Conv2D)           (None, 64, 64, 64)        8256      \n",
      "_________________________________________________________________\n",
      "dropout_32 (Dropout)         (None, 64, 64, 64)        0         \n",
      "_________________________________________________________________\n",
      "max_pooling2d_17 (MaxPooling (None, 32, 32, 64)        0         \n",
      "_________________________________________________________________\n",
      "conv2d_27 (Conv2D)           (None, 32, 32, 128)       32896     \n",
      "_________________________________________________________________\n",
      "dropout_33 (Dropout)         (None, 32, 32, 128)       0         \n",
      "_________________________________________________________________\n",
      "max_pooling2d_18 (MaxPooling (None, 16, 16, 128)       0         \n",
      "_________________________________________________________________\n",
      "flatten_7 (Flatten)          (None, 32768)             0         \n",
      "_________________________________________________________________\n",
      "dropout_34 (Dropout)         (None, 32768)             0         \n",
      "_________________________________________________________________\n",
      "dense_19 (Dense)             (None, 1000)              32769000  \n",
      "_________________________________________________________________\n",
      "dropout_35 (Dropout)         (None, 1000)              0         \n",
      "_________________________________________________________________\n",
      "dense_20 (Dense)             (None, 500)               500500    \n",
      "_________________________________________________________________\n",
      "dropout_36 (Dropout)         (None, 500)               0         \n",
      "_________________________________________________________________\n",
      "dense_21 (Dense)             (None, 9)                 4509      \n",
      "=================================================================\n",
      "Total params: 33,315,577\n",
      "Trainable params: 33,315,577\n",
      "Non-trainable params: 0\n",
      "_________________________________________________________________\n",
      "None\n"
     ]
    },
    {
     "name": "stderr",
     "output_type": "stream",
     "text": [
      "C:\\Users\\Java\\Anaconda3\\envs\\tensorflow\\lib\\site-packages\\keras\\models.py:844: UserWarning: The `nb_epoch` argument in `fit` has been renamed `epochs`.\n",
      "  warnings.warn('The `nb_epoch` argument in `fit` '\n"
     ]
    },
    {
     "name": "stdout",
     "output_type": "stream",
     "text": [
      "Train on 12301 samples, validate on 1367 samples\n",
      "Epoch 1/20\n",
      "12301/12301 [==============================] - 456s - loss: 1.5171 - acc: 0.5145 - val_loss: 1.3409 - val_acc: 0.5530\n",
      "Epoch 2/20\n",
      "12301/12301 [==============================] - 436s - loss: 1.0605 - acc: 0.6397 - val_loss: 1.1170 - val_acc: 0.6496\n",
      "Epoch 3/20\n",
      "12301/12301 [==============================] - 440s - loss: 0.9114 - acc: 0.6867 - val_loss: 1.0089 - val_acc: 0.6803\n",
      "Epoch 4/20\n",
      "12301/12301 [==============================] - 436s - loss: 0.7764 - acc: 0.7308 - val_loss: 0.9485 - val_acc: 0.7030\n",
      "Epoch 5/20\n",
      "12301/12301 [==============================] - 434s - loss: 0.6526 - acc: 0.7712 - val_loss: 0.9451 - val_acc: 0.6840\n",
      "Epoch 6/20\n",
      "12301/12301 [==============================] - 432s - loss: 0.5348 - acc: 0.8096 - val_loss: 0.9281 - val_acc: 0.6796\n",
      "Epoch 7/20\n",
      "12301/12301 [==============================] - 433s - loss: 0.4195 - acc: 0.8501 - val_loss: 0.9665 - val_acc: 0.6854\n",
      "Epoch 8/20\n",
      "12301/12301 [==============================] - 432s - loss: 0.3359 - acc: 0.8787 - val_loss: 1.0317 - val_acc: 0.6781\n",
      "Epoch 9/20\n",
      "12301/12301 [==============================] - 432s - loss: 0.3118 - acc: 0.8928 - val_loss: 0.9766 - val_acc: 0.6920\n",
      "Epoch 10/20\n",
      "12301/12301 [==============================] - 430s - loss: 0.2264 - acc: 0.9190 - val_loss: 1.0094 - val_acc: 0.6906\n",
      "Epoch 11/20\n",
      "12301/12301 [==============================] - 433s - loss: 0.1704 - acc: 0.9402 - val_loss: 1.1082 - val_acc: 0.6686\n",
      "Epoch 12/20\n",
      "12301/12301 [==============================] - 430s - loss: 0.1511 - acc: 0.9473 - val_loss: 1.0191 - val_acc: 0.6942\n",
      "Epoch 13/20\n",
      "12301/12301 [==============================] - 429s - loss: 0.1377 - acc: 0.9546 - val_loss: 1.0647 - val_acc: 0.6825\n",
      "Epoch 14/20\n",
      "12301/12301 [==============================] - 430s - loss: 0.1074 - acc: 0.9628 - val_loss: 1.2063 - val_acc: 0.6942\n",
      "Epoch 15/20\n",
      "12301/12301 [==============================] - 436s - loss: 0.1046 - acc: 0.9644 - val_loss: 1.1058 - val_acc: 0.6825\n",
      "Epoch 16/20\n",
      "12301/12301 [==============================] - 442s - loss: 0.1036 - acc: 0.9667 - val_loss: 1.1166 - val_acc: 0.6913\n",
      "Epoch 17/20\n",
      " 4750/12301 [==========>...................] - ETA: 269s - loss: 0.0859 - acc: 0.9731"
     ]
    },
    {
     "ename": "KeyboardInterrupt",
     "evalue": "",
     "output_type": "error",
     "traceback": [
      "\u001b[1;31m---------------------------------------------------------------------------\u001b[0m",
      "\u001b[1;31mKeyboardInterrupt\u001b[0m                         Traceback (most recent call last)",
      "\u001b[1;32m<ipython-input-62-00aaf3c4f538>\u001b[0m in \u001b[0;36m<module>\u001b[1;34m()\u001b[0m\n\u001b[0;32m    103\u001b[0m \u001b[1;33m\u001b[0m\u001b[0m\n\u001b[0;32m    104\u001b[0m hist = model.fit(X_train, Y_train, batch_size=batch_size, nb_epoch=nb_epoch,\n\u001b[1;32m--> 105\u001b[1;33m               verbose=1, validation_data=(X_test, Y_test))\n\u001b[0m\u001b[0;32m    106\u001b[0m \u001b[1;33m\u001b[0m\u001b[0m\n\u001b[0;32m    107\u001b[0m \u001b[1;33m\u001b[0m\u001b[0m\n",
      "\u001b[1;32mC:\\Users\\Java\\Anaconda3\\envs\\tensorflow\\lib\\site-packages\\keras\\models.py\u001b[0m in \u001b[0;36mfit\u001b[1;34m(self, x, y, batch_size, epochs, verbose, callbacks, validation_split, validation_data, shuffle, class_weight, sample_weight, initial_epoch, **kwargs)\u001b[0m\n\u001b[0;32m    861\u001b[0m                               \u001b[0mclass_weight\u001b[0m\u001b[1;33m=\u001b[0m\u001b[0mclass_weight\u001b[0m\u001b[1;33m,\u001b[0m\u001b[1;33m\u001b[0m\u001b[0m\n\u001b[0;32m    862\u001b[0m                               \u001b[0msample_weight\u001b[0m\u001b[1;33m=\u001b[0m\u001b[0msample_weight\u001b[0m\u001b[1;33m,\u001b[0m\u001b[1;33m\u001b[0m\u001b[0m\n\u001b[1;32m--> 863\u001b[1;33m                               initial_epoch=initial_epoch)\n\u001b[0m\u001b[0;32m    864\u001b[0m \u001b[1;33m\u001b[0m\u001b[0m\n\u001b[0;32m    865\u001b[0m     def evaluate(self, x, y, batch_size=32, verbose=1,\n",
      "\u001b[1;32mC:\\Users\\Java\\Anaconda3\\envs\\tensorflow\\lib\\site-packages\\keras\\engine\\training.py\u001b[0m in \u001b[0;36mfit\u001b[1;34m(self, x, y, batch_size, epochs, verbose, callbacks, validation_split, validation_data, shuffle, class_weight, sample_weight, initial_epoch, **kwargs)\u001b[0m\n\u001b[0;32m   1428\u001b[0m                               \u001b[0mval_f\u001b[0m\u001b[1;33m=\u001b[0m\u001b[0mval_f\u001b[0m\u001b[1;33m,\u001b[0m \u001b[0mval_ins\u001b[0m\u001b[1;33m=\u001b[0m\u001b[0mval_ins\u001b[0m\u001b[1;33m,\u001b[0m \u001b[0mshuffle\u001b[0m\u001b[1;33m=\u001b[0m\u001b[0mshuffle\u001b[0m\u001b[1;33m,\u001b[0m\u001b[1;33m\u001b[0m\u001b[0m\n\u001b[0;32m   1429\u001b[0m                               \u001b[0mcallback_metrics\u001b[0m\u001b[1;33m=\u001b[0m\u001b[0mcallback_metrics\u001b[0m\u001b[1;33m,\u001b[0m\u001b[1;33m\u001b[0m\u001b[0m\n\u001b[1;32m-> 1430\u001b[1;33m                               initial_epoch=initial_epoch)\n\u001b[0m\u001b[0;32m   1431\u001b[0m \u001b[1;33m\u001b[0m\u001b[0m\n\u001b[0;32m   1432\u001b[0m     \u001b[1;32mdef\u001b[0m \u001b[0mevaluate\u001b[0m\u001b[1;33m(\u001b[0m\u001b[0mself\u001b[0m\u001b[1;33m,\u001b[0m \u001b[0mx\u001b[0m\u001b[1;33m,\u001b[0m \u001b[0my\u001b[0m\u001b[1;33m,\u001b[0m \u001b[0mbatch_size\u001b[0m\u001b[1;33m=\u001b[0m\u001b[1;36m32\u001b[0m\u001b[1;33m,\u001b[0m \u001b[0mverbose\u001b[0m\u001b[1;33m=\u001b[0m\u001b[1;36m1\u001b[0m\u001b[1;33m,\u001b[0m \u001b[0msample_weight\u001b[0m\u001b[1;33m=\u001b[0m\u001b[1;32mNone\u001b[0m\u001b[1;33m)\u001b[0m\u001b[1;33m:\u001b[0m\u001b[1;33m\u001b[0m\u001b[0m\n",
      "\u001b[1;32mC:\\Users\\Java\\Anaconda3\\envs\\tensorflow\\lib\\site-packages\\keras\\engine\\training.py\u001b[0m in \u001b[0;36m_fit_loop\u001b[1;34m(self, f, ins, out_labels, batch_size, epochs, verbose, callbacks, val_f, val_ins, shuffle, callback_metrics, initial_epoch)\u001b[0m\n\u001b[0;32m   1077\u001b[0m                 \u001b[0mbatch_logs\u001b[0m\u001b[1;33m[\u001b[0m\u001b[1;34m'size'\u001b[0m\u001b[1;33m]\u001b[0m \u001b[1;33m=\u001b[0m \u001b[0mlen\u001b[0m\u001b[1;33m(\u001b[0m\u001b[0mbatch_ids\u001b[0m\u001b[1;33m)\u001b[0m\u001b[1;33m\u001b[0m\u001b[0m\n\u001b[0;32m   1078\u001b[0m                 \u001b[0mcallbacks\u001b[0m\u001b[1;33m.\u001b[0m\u001b[0mon_batch_begin\u001b[0m\u001b[1;33m(\u001b[0m\u001b[0mbatch_index\u001b[0m\u001b[1;33m,\u001b[0m \u001b[0mbatch_logs\u001b[0m\u001b[1;33m)\u001b[0m\u001b[1;33m\u001b[0m\u001b[0m\n\u001b[1;32m-> 1079\u001b[1;33m                 \u001b[0mouts\u001b[0m \u001b[1;33m=\u001b[0m \u001b[0mf\u001b[0m\u001b[1;33m(\u001b[0m\u001b[0mins_batch\u001b[0m\u001b[1;33m)\u001b[0m\u001b[1;33m\u001b[0m\u001b[0m\n\u001b[0m\u001b[0;32m   1080\u001b[0m                 \u001b[1;32mif\u001b[0m \u001b[1;32mnot\u001b[0m \u001b[0misinstance\u001b[0m\u001b[1;33m(\u001b[0m\u001b[0mouts\u001b[0m\u001b[1;33m,\u001b[0m \u001b[0mlist\u001b[0m\u001b[1;33m)\u001b[0m\u001b[1;33m:\u001b[0m\u001b[1;33m\u001b[0m\u001b[0m\n\u001b[0;32m   1081\u001b[0m                     \u001b[0mouts\u001b[0m \u001b[1;33m=\u001b[0m \u001b[1;33m[\u001b[0m\u001b[0mouts\u001b[0m\u001b[1;33m]\u001b[0m\u001b[1;33m\u001b[0m\u001b[0m\n",
      "\u001b[1;32mC:\\Users\\Java\\Anaconda3\\envs\\tensorflow\\lib\\site-packages\\keras\\backend\\tensorflow_backend.py\u001b[0m in \u001b[0;36m__call__\u001b[1;34m(self, inputs)\u001b[0m\n\u001b[0;32m   2266\u001b[0m         updated = session.run(self.outputs + [self.updates_op],\n\u001b[0;32m   2267\u001b[0m                               \u001b[0mfeed_dict\u001b[0m\u001b[1;33m=\u001b[0m\u001b[0mfeed_dict\u001b[0m\u001b[1;33m,\u001b[0m\u001b[1;33m\u001b[0m\u001b[0m\n\u001b[1;32m-> 2268\u001b[1;33m                               **self.session_kwargs)\n\u001b[0m\u001b[0;32m   2269\u001b[0m         \u001b[1;32mreturn\u001b[0m \u001b[0mupdated\u001b[0m\u001b[1;33m[\u001b[0m\u001b[1;33m:\u001b[0m\u001b[0mlen\u001b[0m\u001b[1;33m(\u001b[0m\u001b[0mself\u001b[0m\u001b[1;33m.\u001b[0m\u001b[0moutputs\u001b[0m\u001b[1;33m)\u001b[0m\u001b[1;33m]\u001b[0m\u001b[1;33m\u001b[0m\u001b[0m\n\u001b[0;32m   2270\u001b[0m \u001b[1;33m\u001b[0m\u001b[0m\n",
      "\u001b[1;32mC:\\Users\\Java\\Anaconda3\\envs\\tensorflow\\lib\\site-packages\\tensorflow\\python\\client\\session.py\u001b[0m in \u001b[0;36mrun\u001b[1;34m(self, fetches, feed_dict, options, run_metadata)\u001b[0m\n\u001b[0;32m    893\u001b[0m     \u001b[1;32mtry\u001b[0m\u001b[1;33m:\u001b[0m\u001b[1;33m\u001b[0m\u001b[0m\n\u001b[0;32m    894\u001b[0m       result = self._run(None, fetches, feed_dict, options_ptr,\n\u001b[1;32m--> 895\u001b[1;33m                          run_metadata_ptr)\n\u001b[0m\u001b[0;32m    896\u001b[0m       \u001b[1;32mif\u001b[0m \u001b[0mrun_metadata\u001b[0m\u001b[1;33m:\u001b[0m\u001b[1;33m\u001b[0m\u001b[0m\n\u001b[0;32m    897\u001b[0m         \u001b[0mproto_data\u001b[0m \u001b[1;33m=\u001b[0m \u001b[0mtf_session\u001b[0m\u001b[1;33m.\u001b[0m\u001b[0mTF_GetBuffer\u001b[0m\u001b[1;33m(\u001b[0m\u001b[0mrun_metadata_ptr\u001b[0m\u001b[1;33m)\u001b[0m\u001b[1;33m\u001b[0m\u001b[0m\n",
      "\u001b[1;32mC:\\Users\\Java\\Anaconda3\\envs\\tensorflow\\lib\\site-packages\\tensorflow\\python\\client\\session.py\u001b[0m in \u001b[0;36m_run\u001b[1;34m(self, handle, fetches, feed_dict, options, run_metadata)\u001b[0m\n\u001b[0;32m   1122\u001b[0m     \u001b[1;32mif\u001b[0m \u001b[0mfinal_fetches\u001b[0m \u001b[1;32mor\u001b[0m \u001b[0mfinal_targets\u001b[0m \u001b[1;32mor\u001b[0m \u001b[1;33m(\u001b[0m\u001b[0mhandle\u001b[0m \u001b[1;32mand\u001b[0m \u001b[0mfeed_dict_tensor\u001b[0m\u001b[1;33m)\u001b[0m\u001b[1;33m:\u001b[0m\u001b[1;33m\u001b[0m\u001b[0m\n\u001b[0;32m   1123\u001b[0m       results = self._do_run(handle, final_targets, final_fetches,\n\u001b[1;32m-> 1124\u001b[1;33m                              feed_dict_tensor, options, run_metadata)\n\u001b[0m\u001b[0;32m   1125\u001b[0m     \u001b[1;32melse\u001b[0m\u001b[1;33m:\u001b[0m\u001b[1;33m\u001b[0m\u001b[0m\n\u001b[0;32m   1126\u001b[0m       \u001b[0mresults\u001b[0m \u001b[1;33m=\u001b[0m \u001b[1;33m[\u001b[0m\u001b[1;33m]\u001b[0m\u001b[1;33m\u001b[0m\u001b[0m\n",
      "\u001b[1;32mC:\\Users\\Java\\Anaconda3\\envs\\tensorflow\\lib\\site-packages\\tensorflow\\python\\client\\session.py\u001b[0m in \u001b[0;36m_do_run\u001b[1;34m(self, handle, target_list, fetch_list, feed_dict, options, run_metadata)\u001b[0m\n\u001b[0;32m   1319\u001b[0m     \u001b[1;32mif\u001b[0m \u001b[0mhandle\u001b[0m \u001b[1;32mis\u001b[0m \u001b[1;32mNone\u001b[0m\u001b[1;33m:\u001b[0m\u001b[1;33m\u001b[0m\u001b[0m\n\u001b[0;32m   1320\u001b[0m       return self._do_call(_run_fn, self._session, feeds, fetches, targets,\n\u001b[1;32m-> 1321\u001b[1;33m                            options, run_metadata)\n\u001b[0m\u001b[0;32m   1322\u001b[0m     \u001b[1;32melse\u001b[0m\u001b[1;33m:\u001b[0m\u001b[1;33m\u001b[0m\u001b[0m\n\u001b[0;32m   1323\u001b[0m       \u001b[1;32mreturn\u001b[0m \u001b[0mself\u001b[0m\u001b[1;33m.\u001b[0m\u001b[0m_do_call\u001b[0m\u001b[1;33m(\u001b[0m\u001b[0m_prun_fn\u001b[0m\u001b[1;33m,\u001b[0m \u001b[0mself\u001b[0m\u001b[1;33m.\u001b[0m\u001b[0m_session\u001b[0m\u001b[1;33m,\u001b[0m \u001b[0mhandle\u001b[0m\u001b[1;33m,\u001b[0m \u001b[0mfeeds\u001b[0m\u001b[1;33m,\u001b[0m \u001b[0mfetches\u001b[0m\u001b[1;33m)\u001b[0m\u001b[1;33m\u001b[0m\u001b[0m\n",
      "\u001b[1;32mC:\\Users\\Java\\Anaconda3\\envs\\tensorflow\\lib\\site-packages\\tensorflow\\python\\client\\session.py\u001b[0m in \u001b[0;36m_do_call\u001b[1;34m(self, fn, *args)\u001b[0m\n\u001b[0;32m   1325\u001b[0m   \u001b[1;32mdef\u001b[0m \u001b[0m_do_call\u001b[0m\u001b[1;33m(\u001b[0m\u001b[0mself\u001b[0m\u001b[1;33m,\u001b[0m \u001b[0mfn\u001b[0m\u001b[1;33m,\u001b[0m \u001b[1;33m*\u001b[0m\u001b[0margs\u001b[0m\u001b[1;33m)\u001b[0m\u001b[1;33m:\u001b[0m\u001b[1;33m\u001b[0m\u001b[0m\n\u001b[0;32m   1326\u001b[0m     \u001b[1;32mtry\u001b[0m\u001b[1;33m:\u001b[0m\u001b[1;33m\u001b[0m\u001b[0m\n\u001b[1;32m-> 1327\u001b[1;33m       \u001b[1;32mreturn\u001b[0m \u001b[0mfn\u001b[0m\u001b[1;33m(\u001b[0m\u001b[1;33m*\u001b[0m\u001b[0margs\u001b[0m\u001b[1;33m)\u001b[0m\u001b[1;33m\u001b[0m\u001b[0m\n\u001b[0m\u001b[0;32m   1328\u001b[0m     \u001b[1;32mexcept\u001b[0m \u001b[0merrors\u001b[0m\u001b[1;33m.\u001b[0m\u001b[0mOpError\u001b[0m \u001b[1;32mas\u001b[0m \u001b[0me\u001b[0m\u001b[1;33m:\u001b[0m\u001b[1;33m\u001b[0m\u001b[0m\n\u001b[0;32m   1329\u001b[0m       \u001b[0mmessage\u001b[0m \u001b[1;33m=\u001b[0m \u001b[0mcompat\u001b[0m\u001b[1;33m.\u001b[0m\u001b[0mas_text\u001b[0m\u001b[1;33m(\u001b[0m\u001b[0me\u001b[0m\u001b[1;33m.\u001b[0m\u001b[0mmessage\u001b[0m\u001b[1;33m)\u001b[0m\u001b[1;33m\u001b[0m\u001b[0m\n",
      "\u001b[1;32mC:\\Users\\Java\\Anaconda3\\envs\\tensorflow\\lib\\site-packages\\tensorflow\\python\\client\\session.py\u001b[0m in \u001b[0;36m_run_fn\u001b[1;34m(session, feed_dict, fetch_list, target_list, options, run_metadata)\u001b[0m\n\u001b[0;32m   1304\u001b[0m           return tf_session.TF_Run(session, options,\n\u001b[0;32m   1305\u001b[0m                                    \u001b[0mfeed_dict\u001b[0m\u001b[1;33m,\u001b[0m \u001b[0mfetch_list\u001b[0m\u001b[1;33m,\u001b[0m \u001b[0mtarget_list\u001b[0m\u001b[1;33m,\u001b[0m\u001b[1;33m\u001b[0m\u001b[0m\n\u001b[1;32m-> 1306\u001b[1;33m                                    status, run_metadata)\n\u001b[0m\u001b[0;32m   1307\u001b[0m \u001b[1;33m\u001b[0m\u001b[0m\n\u001b[0;32m   1308\u001b[0m     \u001b[1;32mdef\u001b[0m \u001b[0m_prun_fn\u001b[0m\u001b[1;33m(\u001b[0m\u001b[0msession\u001b[0m\u001b[1;33m,\u001b[0m \u001b[0mhandle\u001b[0m\u001b[1;33m,\u001b[0m \u001b[0mfeed_dict\u001b[0m\u001b[1;33m,\u001b[0m \u001b[0mfetch_list\u001b[0m\u001b[1;33m)\u001b[0m\u001b[1;33m:\u001b[0m\u001b[1;33m\u001b[0m\u001b[0m\n",
      "\u001b[1;31mKeyboardInterrupt\u001b[0m: "
     ]
    }
   ],
   "source": [
    "model = Sequential()\n",
    "# 加入卷積層1\n",
    "model.add(Conv2D(filters=32, kernel_size = (2,2),   # 32個3*3濾鏡\n",
    "                 input_shape = (128,128,3),   # 圖片大小&三原色\n",
    "                 activation = 'relu',\n",
    "                 padding = 'same' # 經過此層影像大小不變\n",
    "                 ) \n",
    "         )\n",
    "\n",
    "\n",
    "# 控制overfit\n",
    "model.add(Dropout(rate=0.25))    \n",
    "\n",
    "\n",
    "# 加入池化層1\n",
    "model.add(MaxPooling2D(pool_size=(2,2))) \n",
    "\n",
    "##################################################################\n",
    "\n",
    "# 加入卷積層2\n",
    "model.add(Conv2D(filters=64, kernel_size = (2,2),   # 64個3*3濾鏡\n",
    "                 activation = 'relu',\n",
    "                 padding = 'same' # 經過此層影像大小不變\n",
    "                 ) \n",
    "         )\n",
    "\n",
    "\n",
    "# 控制overfit\n",
    "model.add(Dropout(rate=0.25))          \n",
    "\n",
    "\n",
    "\n",
    "# 加入池化層2\n",
    "model.add(MaxPooling2D(pool_size=(2,2))) \n",
    "\n",
    "##################################################################\n",
    "\n",
    "# 加入卷積層3\n",
    "model.add(Conv2D(filters=128, kernel_size = (2,2),   # 64個3*3濾鏡\n",
    "                 activation = 'relu',\n",
    "                 padding = 'same' # 經過此層影像大小不變\n",
    "                 ) \n",
    "         )\n",
    "\n",
    "\n",
    "# 控制overfit\n",
    "model.add(Dropout(rate=0.25))          \n",
    "\n",
    "\n",
    "\n",
    "# 加入池化層2\n",
    "model.add(MaxPooling2D(pool_size=(2,2))) \n",
    "\n",
    "##################################################################\n",
    "\n",
    "# 加入平坦層\n",
    "model.add(Flatten()) #28*28*64\n",
    "\n",
    "\n",
    "# 控制overfit\n",
    "model.add(Dropout(rate=0.25))    \n",
    "\n",
    "\n",
    "##################################################################\n",
    "\n",
    "# 加入隱藏層\n",
    "model.add(Dense(1000, activation = 'relu'))\n",
    "\n",
    "\n",
    "# 控制overfit\n",
    "model.add(Dropout(rate=0.25))    \n",
    "\n",
    "##################################################################\n",
    " # 加入隱藏層\n",
    "model.add(Dense(500, activation = 'relu'))\n",
    "\n",
    "\n",
    "# 控制overfit\n",
    "model.add(Dropout(rate=0.25))    \n",
    "\n",
    "##################################################################\n",
    "\n",
    "# 建立輸出層\n",
    "model.add(Dense(9, activation = 'softmax'))\n",
    "\n",
    "##################################################################\n",
    "\n",
    "# 查看模型摘要\n",
    "print(model.summary())\n",
    "\n",
    "##################################################################\n",
    "\n",
    "###############################\n",
    "#                             #\n",
    "#          準備訓練            #\n",
    "#                             #\n",
    "###############################\n",
    "model.compile(loss = 'categorical_crossentropy',  # 損失函數\n",
    "              optimizer = 'adam',                 # 最優化方法\n",
    "              metrics = ['accuracy'])             # 以準確率評估\n",
    "\n",
    "#%%\n",
    "\n",
    "hist = model.fit(X_train, Y_train, batch_size=batch_size, nb_epoch=nb_epoch,\n",
    "              verbose=1, validation_data=(X_test, Y_test))\n",
    "            \n",
    "            \n",
    "# hist = model.fit(X_train, Y_train, batch_size=batch_size, nb_epoch=nb_epoch,\n",
    "#               verbose=1, validation_split=0.2)"
   ]
  },
  {
   "cell_type": "code",
   "execution_count": 63,
   "metadata": {
    "collapsed": true
   },
   "outputs": [],
   "source": [
    "from sklearn.metrics import classification_report,confusion_matrix"
   ]
  },
  {
   "cell_type": "code",
   "execution_count": 64,
   "metadata": {},
   "outputs": [
    {
     "name": "stdout",
     "output_type": "stream",
     "text": [
      "1367/1367 [==============================] - 7s     \n",
      "[3 8 6 ..., 3 8 3]\n",
      "1367/1367 [==============================] - 7s     \n",
      "                 precision    recall  f1-score   support\n",
      "\n",
      "   class 0(二條城)       0.56      0.44      0.49       103\n",
      " class 1(三十三間堂)       0.48      0.53      0.50       122\n",
      "  class 2(千本鳥居)       0.77      0.67      0.72       245\n",
      "class 3(平等院鳳凰堂)       0.75      0.83      0.79       218\n",
      "  class 4(京都御所)       0.36      0.20      0.26        50\n",
      "   class 5(京都塔)       0.79      0.76      0.77       169\n",
      "   class 6(金閣寺)       0.74      0.90      0.81       248\n",
      "   class 7(清水寺)       0.31      0.18      0.23        55\n",
      "   class 8(渡月橋)       0.72      0.78      0.75       157\n",
      "\n",
      "    avg / total       0.68      0.70      0.68      1367\n",
      "\n",
      "[[ 45  42   3   2   0   4   6   1   0]\n",
      " [ 20  65   6   0   1  10  14   1   5]\n",
      " [  5  10 165  42   2   5  16   0   0]\n",
      " [  0   4  22 182   2   1   7   0   0]\n",
      " [  1   1   3  15  10   9   8   1   2]\n",
      " [  4   5   6   0  11 129  10   1   3]\n",
      " [  4   4   6   1   1   3 223   2   4]\n",
      " [  1   3   0   0   1   1   6  10  33]\n",
      " [  0   2   2   0   0   2  13  16 122]]\n"
     ]
    }
   ],
   "source": [
    "# Y_pred = model.predict(X_test)\n",
    "# print(Y_pred)\n",
    "# y_pred = np.argmax(Y_pred, axis=1)\n",
    "# print(y_pred)\n",
    "y_pred = model.predict_classes(X_test)\n",
    "print(y_pred)\n",
    "\n",
    "p=model.predict_proba(X_test) # to predict probability\n",
    "\n",
    "target_names = ['class 0(二條城)', 'class 1(三十三間堂)', 'class 2(千本鳥居)','class 3(平等院鳳凰堂)','class 4(京都御所)','class 5(京都塔)','class 6(金閣寺)','class 7(清水寺)','class 8(渡月橋)']\n",
    "print(classification_report(np.argmax(Y_test,axis=1), y_pred,target_names=target_names))\n",
    "print(confusion_matrix(np.argmax(Y_test,axis=1), y_pred))"
   ]
  },
  {
   "cell_type": "code",
   "execution_count": 61,
   "metadata": {},
   "outputs": [
    {
     "name": "stdout",
     "output_type": "stream",
     "text": [
      "1367/1367 [==============================] - 11s    \n",
      "[3 8 6 ..., 3 8 3]\n",
      "1367/1367 [==============================] - 11s    \n",
      "                 precision    recall  f1-score   support\n",
      "\n",
      "   class 0(二條城)       0.54      0.57      0.55       103\n",
      " class 1(三十三間堂)       0.51      0.39      0.44       122\n",
      "  class 2(千本鳥居)       0.78      0.62      0.69       245\n",
      "class 3(平等院鳳凰堂)       0.68      0.98      0.81       218\n",
      "  class 4(京都御所)       0.42      0.20      0.27        50\n",
      "   class 5(京都塔)       0.74      0.74      0.74       169\n",
      "   class 6(金閣寺)       0.76      0.79      0.78       248\n",
      "   class 7(清水寺)       0.48      0.20      0.28        55\n",
      "   class 8(渡月橋)       0.72      0.83      0.77       157\n",
      "\n",
      "    avg / total       0.68      0.69      0.68      1367\n",
      "\n",
      "[[ 59  18   9   4   0   6   4   2   1]\n",
      " [ 28  48  13   2   0  12  16   1   2]\n",
      " [  7   8 152  56   0   6  13   0   3]\n",
      " [  1   1   2 213   0   1   0   0   0]\n",
      " [  2   2   0  20  10   7   5   1   3]\n",
      " [  6   6   1   5  11 125  13   1   1]\n",
      " [  4   8  15   7   2   7 197   0   8]\n",
      " [  2   1   2   0   1   3   3  11  32]\n",
      " [  1   2   2   4   0   3   8   7 130]]\n"
     ]
    }
   ],
   "source": [
    "y_pred = model.predict_classes(X_test)\n",
    "print(y_pred)\n",
    "\n",
    "p=model.predict_proba(X_test) # to predict probability\n",
    "\n",
    "target_names = ['class 0(二條城)', 'class 1(三十三間堂)', 'class 2(千本鳥居)','class 3(平等院鳳凰堂)','class 4(京都御所)','class 5(京都塔)','class 6(金閣寺)','class 7(清水寺)','class 8(渡月橋)']\n",
    "print(classification_report(np.argmax(Y_test,axis=1), y_pred,target_names=target_names))\n",
    "print(confusion_matrix(np.argmax(Y_test,axis=1), y_pred))"
   ]
  },
  {
   "cell_type": "code",
   "execution_count": null,
   "metadata": {
    "collapsed": true
   },
   "outputs": [],
   "source": []
  },
  {
   "cell_type": "code",
   "execution_count": 54,
   "metadata": {},
   "outputs": [
    {
     "ename": "NameError",
     "evalue": "name 'hist' is not defined",
     "output_type": "error",
     "traceback": [
      "\u001b[1;31m---------------------------------------------------------------------------\u001b[0m",
      "\u001b[1;31mNameError\u001b[0m                                 Traceback (most recent call last)",
      "\u001b[1;32m<ipython-input-54-9ffcf7b8e40c>\u001b[0m in \u001b[0;36m<module>\u001b[1;34m()\u001b[0m\n\u001b[1;32m----> 1\u001b[1;33m \u001b[0mshow_train_history\u001b[0m\u001b[1;33m(\u001b[0m\u001b[0mhist\u001b[0m\u001b[1;33m,\u001b[0m\u001b[1;34m'acc'\u001b[0m\u001b[1;33m,\u001b[0m\u001b[1;34m'val_acc'\u001b[0m\u001b[1;33m)\u001b[0m\u001b[1;33m\u001b[0m\u001b[0m\n\u001b[0m",
      "\u001b[1;31mNameError\u001b[0m: name 'hist' is not defined"
     ]
    }
   ],
   "source": [
    "show_train_history(hist,'acc','val_acc')"
   ]
  },
  {
   "cell_type": "code",
   "execution_count": null,
   "metadata": {
    "collapsed": true
   },
   "outputs": [],
   "source": []
  }
 ],
 "metadata": {
  "kernelspec": {
   "display_name": "Python 3",
   "language": "python",
   "name": "python3"
  },
  "language_info": {
   "codemirror_mode": {
    "name": "ipython",
    "version": 3
   },
   "file_extension": ".py",
   "mimetype": "text/x-python",
   "name": "python",
   "nbconvert_exporter": "python",
   "pygments_lexer": "ipython3",
   "version": "3.5.3"
  }
 },
 "nbformat": 4,
 "nbformat_minor": 2
}
